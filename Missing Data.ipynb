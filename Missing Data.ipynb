{
 "cells": [
  {
   "cell_type": "markdown",
   "metadata": {},
   "source": [
    "## Missing data, also known as missing values, is where some of the observations in a data set are blank.\n",
    "ex. \n",
    "- At age feature womens hesitate to put down their age\n",
    "- Men hesitate to show their salary\n",
    "- informations are not that valid"
   ]
  },
  {
   "cell_type": "markdown",
   "metadata": {},
   "source": [
    "### Different types of data"
   ]
  },
  {
   "cell_type": "markdown",
   "metadata": {},
   "source": [
    "##### 1. Categorical Data:\n",
    "\n",
    "    It is a string type of data such as Gender, Sex, education, etc.\n",
    "        ex : \n",
    "                 Sex\n",
    "            0    male\n",
    "            1  female\n",
    "            2  female\n",
    "            3  female\n",
    "            4    male\n"
   ]
  },
  {
   "cell_type": "markdown",
   "metadata": {},
   "source": [
    "#####  2. Discrite Data:\n",
    "\n",
    "    It is a number type data which is whole number only, such as How many bank account you have,How many bike you have, etc.\n",
    "    \n",
    "        ex:\n",
    "    \n",
    "                Id\tNo. of Bank account\n",
    "            0\t1      \t 2\n",
    "            1\t2       \t1\n",
    "            2\t3\t       3\n",
    "            3\t4       \t1\n",
    "            4\t5       \t2"
   ]
  },
  {
   "cell_type": "markdown",
   "metadata": {},
   "source": [
    "##### 3. Continous Data:\n",
    "    \n",
    "    It is a number type data such as Age, Height, Profit, etc.\n",
    "\n",
    "        ex : \n",
    "                 Age\t Height\n",
    "            0\t22.0\t70.250\n",
    "            1\t38.0\t71.283\n",
    "            2\t26.0\t72.925\n",
    "            3\t35.0\t69.100\n",
    "            4\t35.0\t78.500\n"
   ]
  },
  {
   "cell_type": "markdown",
   "metadata": {},
   "source": [
    "### Different types of Missing data"
   ]
  },
  {
   "cell_type": "markdown",
   "metadata": {},
   "source": [
    "##### 1. Missing Completely at Random (MCAR)\n",
    "    - The variable is missing completely at random (MCAR) if the probability of being missing is the same for all the observations.\n",
    "    - When data is MCAR, there is absolutely no relationship between the data missing and other values.\n",
    "    \n",
    "    ex. \n",
    "    \n",
    "\n",
    "        PassengerId\tSurvived\tPclass\tSex\tAge\tSibSp\tParch\tTicket\tFare\tCabin\tEmbarked\n",
    "        62\t           1\t     1\t\tfemale 38.0\t 0\t    0\t   113572\t80.0\t B28\t  NaN\n",
    "        830              1\t     1\t\tfemale 62.0     0\t  0         113572\t80.0    B28\t  NaN\n",
    "        \n",
    "     Null values present in Embarked feature there is no relationship between Embarked's Null values and any other features."
   ]
  },
  {
   "cell_type": "markdown",
   "metadata": {},
   "source": [
    "##### 2. Missing Data Not at Random (MNAR)\n",
    "    - There is absolutely some relationship between the data misssing and any other feature's  values in dataset.\n",
    "    \n",
    "     ex: \n",
    "        \n",
    "            PassengerId  Survived  Pclass  Sex  Age  SibSp  Parch  Ticket  Fare  Cabin  Embarked\n",
    "            \t6\t       0\t    3\tmale\tNaN\t0\t0\t330877 8.4583  NaN\tQ\n",
    "            \t18\t      1        2\tmale\tNaN\t0\t0\t244373 13.0000  NaN\tS\n",
    "            \t20          1    \t3\tfemale  NaN\t0\t0\t2649   7.2250  NaN\tC\n",
    "            \t27\t      0    \t3\tmale\tNaN\t0\t0    2631  7.2250\tNaN\tC\n",
    "            \t29\t      1    \t3\tfemale NaN\t 0\t0   330959\t7.8792 NaN\tQ   \n",
    "                \n",
    "      Null values are present in 'Age' and 'Cabin' feature too so it is having relationship between this feature. Suppose person in that specific cabin is not survied and that's why their Age is unknown."
   ]
  },
  {
   "cell_type": "markdown",
   "metadata": {},
   "source": [
    "##### 3. Missing at Random(MAR)\n",
    "    - If the propensity for a data point to be missing is not related to the missing data, but it is related to some of the observed data.\n",
    "    - When Data is MAR, The data is missing but can be predicted from other information.\n",
    "    \n",
    "    ex:\n",
    "        \n",
    "              Sex\tAge\n",
    "        \tfemale\tNaN\n",
    "        \tmale  \t30\n",
    "        \tmale\t  19\n",
    "        \tfemale\tNaN\n",
    "        \tfemale\t4"
   ]
  },
  {
   "cell_type": "markdown",
   "metadata": {},
   "source": [
    "## All techniques of handling Missing values\n",
    "\n",
    "    1. Mean/Mode/Median replacement\n",
    "    2. Random sample imputation\n",
    "    3. Capturing NAN values with a new feature\n",
    "    4. End of Distribution imputation\n",
    "    5. Arbitrary imputation\n",
    "    6. Frequent categories imputation   "
   ]
  },
  {
   "cell_type": "markdown",
   "metadata": {},
   "source": [
    "##### Note we perform all this techniques on 'Titanic' dataset, you can download it from :\n",
    "- "
   ]
  }
 ],
 "metadata": {
  "kernelspec": {
   "display_name": "Python 3",
   "language": "python",
   "name": "python3"
  },
  "language_info": {
   "codemirror_mode": {
    "name": "ipython",
    "version": 3
   },
   "file_extension": ".py",
   "mimetype": "text/x-python",
   "name": "python",
   "nbconvert_exporter": "python",
   "pygments_lexer": "ipython3",
   "version": "3.7.3"
  }
 },
 "nbformat": 4,
 "nbformat_minor": 2
}
